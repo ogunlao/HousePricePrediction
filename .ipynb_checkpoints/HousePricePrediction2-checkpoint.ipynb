{
 "cells": [
  {
   "cell_type": "markdown",
   "metadata": {},
   "source": [
    "> Ask a home buyer to describe their dream house, and they probably won't begin with the height of the basement ceiling or the proximity to an east-west railroad. But this playground competition's dataset proves that much more influences price negotiations than the number of bedrooms or a white-picket fence.\n",
    "\n",
    "> With 79 explanatory variables describing (almost) every aspect of residential homes in Ames, Iowa, this competition challenges you to predict the final price of each home."
   ]
  },
  {
   "cell_type": "code",
   "execution_count": 1,
   "metadata": {},
   "outputs": [
    {
     "data": {
      "text/plain": [
       "'/home/lao/notebook/HousePrices'"
      ]
     },
     "execution_count": 1,
     "metadata": {},
     "output_type": "execute_result"
    }
   ],
   "source": [
    "%pwd"
   ]
  },
  {
   "cell_type": "code",
   "execution_count": 2,
   "metadata": {},
   "outputs": [],
   "source": [
    "path = '/home/lao/notebook/HousePrices'"
   ]
  },
  {
   "cell_type": "code",
   "execution_count": 3,
   "metadata": {},
   "outputs": [],
   "source": [
    "import pandas as pd, numpy as np, matplotlib.pyplot as plt"
   ]
  },
  {
   "cell_type": "code",
   "execution_count": 4,
   "metadata": {},
   "outputs": [],
   "source": [
    "housing_data = pd.read_csv(path + '/train.csv')"
   ]
  },
  {
   "cell_type": "code",
   "execution_count": 5,
   "metadata": {},
   "outputs": [
    {
     "data": {
      "text/html": [
       "<div>\n",
       "<style scoped>\n",
       "    .dataframe tbody tr th:only-of-type {\n",
       "        vertical-align: middle;\n",
       "    }\n",
       "\n",
       "    .dataframe tbody tr th {\n",
       "        vertical-align: top;\n",
       "    }\n",
       "\n",
       "    .dataframe thead th {\n",
       "        text-align: right;\n",
       "    }\n",
       "</style>\n",
       "<table border=\"1\" class=\"dataframe\">\n",
       "  <thead>\n",
       "    <tr style=\"text-align: right;\">\n",
       "      <th></th>\n",
       "      <th>Id</th>\n",
       "      <th>MSSubClass</th>\n",
       "      <th>MSZoning</th>\n",
       "      <th>LotFrontage</th>\n",
       "      <th>LotArea</th>\n",
       "      <th>Street</th>\n",
       "      <th>Alley</th>\n",
       "      <th>LotShape</th>\n",
       "      <th>LandContour</th>\n",
       "      <th>Utilities</th>\n",
       "      <th>...</th>\n",
       "      <th>PoolArea</th>\n",
       "      <th>PoolQC</th>\n",
       "      <th>Fence</th>\n",
       "      <th>MiscFeature</th>\n",
       "      <th>MiscVal</th>\n",
       "      <th>MoSold</th>\n",
       "      <th>YrSold</th>\n",
       "      <th>SaleType</th>\n",
       "      <th>SaleCondition</th>\n",
       "      <th>SalePrice</th>\n",
       "    </tr>\n",
       "  </thead>\n",
       "  <tbody>\n",
       "    <tr>\n",
       "      <th>0</th>\n",
       "      <td>1</td>\n",
       "      <td>60</td>\n",
       "      <td>RL</td>\n",
       "      <td>65.0</td>\n",
       "      <td>8450</td>\n",
       "      <td>Pave</td>\n",
       "      <td>NaN</td>\n",
       "      <td>Reg</td>\n",
       "      <td>Lvl</td>\n",
       "      <td>AllPub</td>\n",
       "      <td>...</td>\n",
       "      <td>0</td>\n",
       "      <td>NaN</td>\n",
       "      <td>NaN</td>\n",
       "      <td>NaN</td>\n",
       "      <td>0</td>\n",
       "      <td>2</td>\n",
       "      <td>2008</td>\n",
       "      <td>WD</td>\n",
       "      <td>Normal</td>\n",
       "      <td>208500</td>\n",
       "    </tr>\n",
       "    <tr>\n",
       "      <th>1</th>\n",
       "      <td>2</td>\n",
       "      <td>20</td>\n",
       "      <td>RL</td>\n",
       "      <td>80.0</td>\n",
       "      <td>9600</td>\n",
       "      <td>Pave</td>\n",
       "      <td>NaN</td>\n",
       "      <td>Reg</td>\n",
       "      <td>Lvl</td>\n",
       "      <td>AllPub</td>\n",
       "      <td>...</td>\n",
       "      <td>0</td>\n",
       "      <td>NaN</td>\n",
       "      <td>NaN</td>\n",
       "      <td>NaN</td>\n",
       "      <td>0</td>\n",
       "      <td>5</td>\n",
       "      <td>2007</td>\n",
       "      <td>WD</td>\n",
       "      <td>Normal</td>\n",
       "      <td>181500</td>\n",
       "    </tr>\n",
       "    <tr>\n",
       "      <th>2</th>\n",
       "      <td>3</td>\n",
       "      <td>60</td>\n",
       "      <td>RL</td>\n",
       "      <td>68.0</td>\n",
       "      <td>11250</td>\n",
       "      <td>Pave</td>\n",
       "      <td>NaN</td>\n",
       "      <td>IR1</td>\n",
       "      <td>Lvl</td>\n",
       "      <td>AllPub</td>\n",
       "      <td>...</td>\n",
       "      <td>0</td>\n",
       "      <td>NaN</td>\n",
       "      <td>NaN</td>\n",
       "      <td>NaN</td>\n",
       "      <td>0</td>\n",
       "      <td>9</td>\n",
       "      <td>2008</td>\n",
       "      <td>WD</td>\n",
       "      <td>Normal</td>\n",
       "      <td>223500</td>\n",
       "    </tr>\n",
       "    <tr>\n",
       "      <th>3</th>\n",
       "      <td>4</td>\n",
       "      <td>70</td>\n",
       "      <td>RL</td>\n",
       "      <td>60.0</td>\n",
       "      <td>9550</td>\n",
       "      <td>Pave</td>\n",
       "      <td>NaN</td>\n",
       "      <td>IR1</td>\n",
       "      <td>Lvl</td>\n",
       "      <td>AllPub</td>\n",
       "      <td>...</td>\n",
       "      <td>0</td>\n",
       "      <td>NaN</td>\n",
       "      <td>NaN</td>\n",
       "      <td>NaN</td>\n",
       "      <td>0</td>\n",
       "      <td>2</td>\n",
       "      <td>2006</td>\n",
       "      <td>WD</td>\n",
       "      <td>Abnorml</td>\n",
       "      <td>140000</td>\n",
       "    </tr>\n",
       "    <tr>\n",
       "      <th>4</th>\n",
       "      <td>5</td>\n",
       "      <td>60</td>\n",
       "      <td>RL</td>\n",
       "      <td>84.0</td>\n",
       "      <td>14260</td>\n",
       "      <td>Pave</td>\n",
       "      <td>NaN</td>\n",
       "      <td>IR1</td>\n",
       "      <td>Lvl</td>\n",
       "      <td>AllPub</td>\n",
       "      <td>...</td>\n",
       "      <td>0</td>\n",
       "      <td>NaN</td>\n",
       "      <td>NaN</td>\n",
       "      <td>NaN</td>\n",
       "      <td>0</td>\n",
       "      <td>12</td>\n",
       "      <td>2008</td>\n",
       "      <td>WD</td>\n",
       "      <td>Normal</td>\n",
       "      <td>250000</td>\n",
       "    </tr>\n",
       "  </tbody>\n",
       "</table>\n",
       "<p>5 rows × 81 columns</p>\n",
       "</div>"
      ],
      "text/plain": [
       "   Id  MSSubClass MSZoning  LotFrontage  LotArea Street Alley LotShape  \\\n",
       "0   1          60       RL         65.0     8450   Pave   NaN      Reg   \n",
       "1   2          20       RL         80.0     9600   Pave   NaN      Reg   \n",
       "2   3          60       RL         68.0    11250   Pave   NaN      IR1   \n",
       "3   4          70       RL         60.0     9550   Pave   NaN      IR1   \n",
       "4   5          60       RL         84.0    14260   Pave   NaN      IR1   \n",
       "\n",
       "  LandContour Utilities    ...     PoolArea PoolQC Fence MiscFeature MiscVal  \\\n",
       "0         Lvl    AllPub    ...            0    NaN   NaN         NaN       0   \n",
       "1         Lvl    AllPub    ...            0    NaN   NaN         NaN       0   \n",
       "2         Lvl    AllPub    ...            0    NaN   NaN         NaN       0   \n",
       "3         Lvl    AllPub    ...            0    NaN   NaN         NaN       0   \n",
       "4         Lvl    AllPub    ...            0    NaN   NaN         NaN       0   \n",
       "\n",
       "  MoSold YrSold  SaleType  SaleCondition  SalePrice  \n",
       "0      2   2008        WD         Normal     208500  \n",
       "1      5   2007        WD         Normal     181500  \n",
       "2      9   2008        WD         Normal     223500  \n",
       "3      2   2006        WD        Abnorml     140000  \n",
       "4     12   2008        WD         Normal     250000  \n",
       "\n",
       "[5 rows x 81 columns]"
      ]
     },
     "execution_count": 5,
     "metadata": {},
     "output_type": "execute_result"
    }
   ],
   "source": [
    "housing_data.head()"
   ]
  },
  {
   "cell_type": "code",
   "execution_count": 6,
   "metadata": {
    "scrolled": true
   },
   "outputs": [
    {
     "name": "stdout",
     "output_type": "stream",
     "text": [
      "<class 'pandas.core.frame.DataFrame'>\n",
      "RangeIndex: 1460 entries, 0 to 1459\n",
      "Data columns (total 81 columns):\n",
      "Id               1460 non-null int64\n",
      "MSSubClass       1460 non-null int64\n",
      "MSZoning         1460 non-null object\n",
      "LotFrontage      1201 non-null float64\n",
      "LotArea          1460 non-null int64\n",
      "Street           1460 non-null object\n",
      "Alley            91 non-null object\n",
      "LotShape         1460 non-null object\n",
      "LandContour      1460 non-null object\n",
      "Utilities        1460 non-null object\n",
      "LotConfig        1460 non-null object\n",
      "LandSlope        1460 non-null object\n",
      "Neighborhood     1460 non-null object\n",
      "Condition1       1460 non-null object\n",
      "Condition2       1460 non-null object\n",
      "BldgType         1460 non-null object\n",
      "HouseStyle       1460 non-null object\n",
      "OverallQual      1460 non-null int64\n",
      "OverallCond      1460 non-null int64\n",
      "YearBuilt        1460 non-null int64\n",
      "YearRemodAdd     1460 non-null int64\n",
      "RoofStyle        1460 non-null object\n",
      "RoofMatl         1460 non-null object\n",
      "Exterior1st      1460 non-null object\n",
      "Exterior2nd      1460 non-null object\n",
      "MasVnrType       1452 non-null object\n",
      "MasVnrArea       1452 non-null float64\n",
      "ExterQual        1460 non-null object\n",
      "ExterCond        1460 non-null object\n",
      "Foundation       1460 non-null object\n",
      "BsmtQual         1423 non-null object\n",
      "BsmtCond         1423 non-null object\n",
      "BsmtExposure     1422 non-null object\n",
      "BsmtFinType1     1423 non-null object\n",
      "BsmtFinSF1       1460 non-null int64\n",
      "BsmtFinType2     1422 non-null object\n",
      "BsmtFinSF2       1460 non-null int64\n",
      "BsmtUnfSF        1460 non-null int64\n",
      "TotalBsmtSF      1460 non-null int64\n",
      "Heating          1460 non-null object\n",
      "HeatingQC        1460 non-null object\n",
      "CentralAir       1460 non-null object\n",
      "Electrical       1459 non-null object\n",
      "1stFlrSF         1460 non-null int64\n",
      "2ndFlrSF         1460 non-null int64\n",
      "LowQualFinSF     1460 non-null int64\n",
      "GrLivArea        1460 non-null int64\n",
      "BsmtFullBath     1460 non-null int64\n",
      "BsmtHalfBath     1460 non-null int64\n",
      "FullBath         1460 non-null int64\n",
      "HalfBath         1460 non-null int64\n",
      "BedroomAbvGr     1460 non-null int64\n",
      "KitchenAbvGr     1460 non-null int64\n",
      "KitchenQual      1460 non-null object\n",
      "TotRmsAbvGrd     1460 non-null int64\n",
      "Functional       1460 non-null object\n",
      "Fireplaces       1460 non-null int64\n",
      "FireplaceQu      770 non-null object\n",
      "GarageType       1379 non-null object\n",
      "GarageYrBlt      1379 non-null float64\n",
      "GarageFinish     1379 non-null object\n",
      "GarageCars       1460 non-null int64\n",
      "GarageArea       1460 non-null int64\n",
      "GarageQual       1379 non-null object\n",
      "GarageCond       1379 non-null object\n",
      "PavedDrive       1460 non-null object\n",
      "WoodDeckSF       1460 non-null int64\n",
      "OpenPorchSF      1460 non-null int64\n",
      "EnclosedPorch    1460 non-null int64\n",
      "3SsnPorch        1460 non-null int64\n",
      "ScreenPorch      1460 non-null int64\n",
      "PoolArea         1460 non-null int64\n",
      "PoolQC           7 non-null object\n",
      "Fence            281 non-null object\n",
      "MiscFeature      54 non-null object\n",
      "MiscVal          1460 non-null int64\n",
      "MoSold           1460 non-null int64\n",
      "YrSold           1460 non-null int64\n",
      "SaleType         1460 non-null object\n",
      "SaleCondition    1460 non-null object\n",
      "SalePrice        1460 non-null int64\n",
      "dtypes: float64(3), int64(35), object(43)\n",
      "memory usage: 924.0+ KB\n"
     ]
    }
   ],
   "source": [
    "housing_data.info()"
   ]
  },
  {
   "cell_type": "code",
   "execution_count": 7,
   "metadata": {},
   "outputs": [
    {
     "data": {
      "text/plain": [
       "(1460, 81)"
      ]
     },
     "execution_count": 7,
     "metadata": {},
     "output_type": "execute_result"
    }
   ],
   "source": [
    "housing_data.shape"
   ]
  },
  {
   "cell_type": "code",
   "execution_count": 8,
   "metadata": {},
   "outputs": [
    {
     "data": {
      "text/html": [
       "<div>\n",
       "<style scoped>\n",
       "    .dataframe tbody tr th:only-of-type {\n",
       "        vertical-align: middle;\n",
       "    }\n",
       "\n",
       "    .dataframe tbody tr th {\n",
       "        vertical-align: top;\n",
       "    }\n",
       "\n",
       "    .dataframe thead th {\n",
       "        text-align: right;\n",
       "    }\n",
       "</style>\n",
       "<table border=\"1\" class=\"dataframe\">\n",
       "  <thead>\n",
       "    <tr style=\"text-align: right;\">\n",
       "      <th></th>\n",
       "      <th>Id</th>\n",
       "      <th>MSSubClass</th>\n",
       "      <th>LotFrontage</th>\n",
       "      <th>LotArea</th>\n",
       "      <th>OverallQual</th>\n",
       "      <th>OverallCond</th>\n",
       "      <th>YearBuilt</th>\n",
       "      <th>YearRemodAdd</th>\n",
       "      <th>MasVnrArea</th>\n",
       "      <th>BsmtFinSF1</th>\n",
       "      <th>...</th>\n",
       "      <th>WoodDeckSF</th>\n",
       "      <th>OpenPorchSF</th>\n",
       "      <th>EnclosedPorch</th>\n",
       "      <th>3SsnPorch</th>\n",
       "      <th>ScreenPorch</th>\n",
       "      <th>PoolArea</th>\n",
       "      <th>MiscVal</th>\n",
       "      <th>MoSold</th>\n",
       "      <th>YrSold</th>\n",
       "      <th>SalePrice</th>\n",
       "    </tr>\n",
       "  </thead>\n",
       "  <tbody>\n",
       "    <tr>\n",
       "      <th>count</th>\n",
       "      <td>1460.000000</td>\n",
       "      <td>1460.000000</td>\n",
       "      <td>1201.000000</td>\n",
       "      <td>1460.000000</td>\n",
       "      <td>1460.000000</td>\n",
       "      <td>1460.000000</td>\n",
       "      <td>1460.000000</td>\n",
       "      <td>1460.000000</td>\n",
       "      <td>1452.000000</td>\n",
       "      <td>1460.000000</td>\n",
       "      <td>...</td>\n",
       "      <td>1460.000000</td>\n",
       "      <td>1460.000000</td>\n",
       "      <td>1460.000000</td>\n",
       "      <td>1460.000000</td>\n",
       "      <td>1460.000000</td>\n",
       "      <td>1460.000000</td>\n",
       "      <td>1460.000000</td>\n",
       "      <td>1460.000000</td>\n",
       "      <td>1460.000000</td>\n",
       "      <td>1460.000000</td>\n",
       "    </tr>\n",
       "    <tr>\n",
       "      <th>mean</th>\n",
       "      <td>730.500000</td>\n",
       "      <td>56.897260</td>\n",
       "      <td>70.049958</td>\n",
       "      <td>10516.828082</td>\n",
       "      <td>6.099315</td>\n",
       "      <td>5.575342</td>\n",
       "      <td>1971.267808</td>\n",
       "      <td>1984.865753</td>\n",
       "      <td>103.685262</td>\n",
       "      <td>443.639726</td>\n",
       "      <td>...</td>\n",
       "      <td>94.244521</td>\n",
       "      <td>46.660274</td>\n",
       "      <td>21.954110</td>\n",
       "      <td>3.409589</td>\n",
       "      <td>15.060959</td>\n",
       "      <td>2.758904</td>\n",
       "      <td>43.489041</td>\n",
       "      <td>6.321918</td>\n",
       "      <td>2007.815753</td>\n",
       "      <td>180921.195890</td>\n",
       "    </tr>\n",
       "    <tr>\n",
       "      <th>std</th>\n",
       "      <td>421.610009</td>\n",
       "      <td>42.300571</td>\n",
       "      <td>24.284752</td>\n",
       "      <td>9981.264932</td>\n",
       "      <td>1.382997</td>\n",
       "      <td>1.112799</td>\n",
       "      <td>30.202904</td>\n",
       "      <td>20.645407</td>\n",
       "      <td>181.066207</td>\n",
       "      <td>456.098091</td>\n",
       "      <td>...</td>\n",
       "      <td>125.338794</td>\n",
       "      <td>66.256028</td>\n",
       "      <td>61.119149</td>\n",
       "      <td>29.317331</td>\n",
       "      <td>55.757415</td>\n",
       "      <td>40.177307</td>\n",
       "      <td>496.123024</td>\n",
       "      <td>2.703626</td>\n",
       "      <td>1.328095</td>\n",
       "      <td>79442.502883</td>\n",
       "    </tr>\n",
       "    <tr>\n",
       "      <th>min</th>\n",
       "      <td>1.000000</td>\n",
       "      <td>20.000000</td>\n",
       "      <td>21.000000</td>\n",
       "      <td>1300.000000</td>\n",
       "      <td>1.000000</td>\n",
       "      <td>1.000000</td>\n",
       "      <td>1872.000000</td>\n",
       "      <td>1950.000000</td>\n",
       "      <td>0.000000</td>\n",
       "      <td>0.000000</td>\n",
       "      <td>...</td>\n",
       "      <td>0.000000</td>\n",
       "      <td>0.000000</td>\n",
       "      <td>0.000000</td>\n",
       "      <td>0.000000</td>\n",
       "      <td>0.000000</td>\n",
       "      <td>0.000000</td>\n",
       "      <td>0.000000</td>\n",
       "      <td>1.000000</td>\n",
       "      <td>2006.000000</td>\n",
       "      <td>34900.000000</td>\n",
       "    </tr>\n",
       "    <tr>\n",
       "      <th>25%</th>\n",
       "      <td>365.750000</td>\n",
       "      <td>20.000000</td>\n",
       "      <td>59.000000</td>\n",
       "      <td>7553.500000</td>\n",
       "      <td>5.000000</td>\n",
       "      <td>5.000000</td>\n",
       "      <td>1954.000000</td>\n",
       "      <td>1967.000000</td>\n",
       "      <td>0.000000</td>\n",
       "      <td>0.000000</td>\n",
       "      <td>...</td>\n",
       "      <td>0.000000</td>\n",
       "      <td>0.000000</td>\n",
       "      <td>0.000000</td>\n",
       "      <td>0.000000</td>\n",
       "      <td>0.000000</td>\n",
       "      <td>0.000000</td>\n",
       "      <td>0.000000</td>\n",
       "      <td>5.000000</td>\n",
       "      <td>2007.000000</td>\n",
       "      <td>129975.000000</td>\n",
       "    </tr>\n",
       "    <tr>\n",
       "      <th>50%</th>\n",
       "      <td>730.500000</td>\n",
       "      <td>50.000000</td>\n",
       "      <td>69.000000</td>\n",
       "      <td>9478.500000</td>\n",
       "      <td>6.000000</td>\n",
       "      <td>5.000000</td>\n",
       "      <td>1973.000000</td>\n",
       "      <td>1994.000000</td>\n",
       "      <td>0.000000</td>\n",
       "      <td>383.500000</td>\n",
       "      <td>...</td>\n",
       "      <td>0.000000</td>\n",
       "      <td>25.000000</td>\n",
       "      <td>0.000000</td>\n",
       "      <td>0.000000</td>\n",
       "      <td>0.000000</td>\n",
       "      <td>0.000000</td>\n",
       "      <td>0.000000</td>\n",
       "      <td>6.000000</td>\n",
       "      <td>2008.000000</td>\n",
       "      <td>163000.000000</td>\n",
       "    </tr>\n",
       "    <tr>\n",
       "      <th>75%</th>\n",
       "      <td>1095.250000</td>\n",
       "      <td>70.000000</td>\n",
       "      <td>80.000000</td>\n",
       "      <td>11601.500000</td>\n",
       "      <td>7.000000</td>\n",
       "      <td>6.000000</td>\n",
       "      <td>2000.000000</td>\n",
       "      <td>2004.000000</td>\n",
       "      <td>166.000000</td>\n",
       "      <td>712.250000</td>\n",
       "      <td>...</td>\n",
       "      <td>168.000000</td>\n",
       "      <td>68.000000</td>\n",
       "      <td>0.000000</td>\n",
       "      <td>0.000000</td>\n",
       "      <td>0.000000</td>\n",
       "      <td>0.000000</td>\n",
       "      <td>0.000000</td>\n",
       "      <td>8.000000</td>\n",
       "      <td>2009.000000</td>\n",
       "      <td>214000.000000</td>\n",
       "    </tr>\n",
       "    <tr>\n",
       "      <th>max</th>\n",
       "      <td>1460.000000</td>\n",
       "      <td>190.000000</td>\n",
       "      <td>313.000000</td>\n",
       "      <td>215245.000000</td>\n",
       "      <td>10.000000</td>\n",
       "      <td>9.000000</td>\n",
       "      <td>2010.000000</td>\n",
       "      <td>2010.000000</td>\n",
       "      <td>1600.000000</td>\n",
       "      <td>5644.000000</td>\n",
       "      <td>...</td>\n",
       "      <td>857.000000</td>\n",
       "      <td>547.000000</td>\n",
       "      <td>552.000000</td>\n",
       "      <td>508.000000</td>\n",
       "      <td>480.000000</td>\n",
       "      <td>738.000000</td>\n",
       "      <td>15500.000000</td>\n",
       "      <td>12.000000</td>\n",
       "      <td>2010.000000</td>\n",
       "      <td>755000.000000</td>\n",
       "    </tr>\n",
       "  </tbody>\n",
       "</table>\n",
       "<p>8 rows × 38 columns</p>\n",
       "</div>"
      ],
      "text/plain": [
       "                Id   MSSubClass  LotFrontage        LotArea  OverallQual  \\\n",
       "count  1460.000000  1460.000000  1201.000000    1460.000000  1460.000000   \n",
       "mean    730.500000    56.897260    70.049958   10516.828082     6.099315   \n",
       "std     421.610009    42.300571    24.284752    9981.264932     1.382997   \n",
       "min       1.000000    20.000000    21.000000    1300.000000     1.000000   \n",
       "25%     365.750000    20.000000    59.000000    7553.500000     5.000000   \n",
       "50%     730.500000    50.000000    69.000000    9478.500000     6.000000   \n",
       "75%    1095.250000    70.000000    80.000000   11601.500000     7.000000   \n",
       "max    1460.000000   190.000000   313.000000  215245.000000    10.000000   \n",
       "\n",
       "       OverallCond    YearBuilt  YearRemodAdd   MasVnrArea   BsmtFinSF1  \\\n",
       "count  1460.000000  1460.000000   1460.000000  1452.000000  1460.000000   \n",
       "mean      5.575342  1971.267808   1984.865753   103.685262   443.639726   \n",
       "std       1.112799    30.202904     20.645407   181.066207   456.098091   \n",
       "min       1.000000  1872.000000   1950.000000     0.000000     0.000000   \n",
       "25%       5.000000  1954.000000   1967.000000     0.000000     0.000000   \n",
       "50%       5.000000  1973.000000   1994.000000     0.000000   383.500000   \n",
       "75%       6.000000  2000.000000   2004.000000   166.000000   712.250000   \n",
       "max       9.000000  2010.000000   2010.000000  1600.000000  5644.000000   \n",
       "\n",
       "           ...         WoodDeckSF  OpenPorchSF  EnclosedPorch    3SsnPorch  \\\n",
       "count      ...        1460.000000  1460.000000    1460.000000  1460.000000   \n",
       "mean       ...          94.244521    46.660274      21.954110     3.409589   \n",
       "std        ...         125.338794    66.256028      61.119149    29.317331   \n",
       "min        ...           0.000000     0.000000       0.000000     0.000000   \n",
       "25%        ...           0.000000     0.000000       0.000000     0.000000   \n",
       "50%        ...           0.000000    25.000000       0.000000     0.000000   \n",
       "75%        ...         168.000000    68.000000       0.000000     0.000000   \n",
       "max        ...         857.000000   547.000000     552.000000   508.000000   \n",
       "\n",
       "       ScreenPorch     PoolArea       MiscVal       MoSold       YrSold  \\\n",
       "count  1460.000000  1460.000000   1460.000000  1460.000000  1460.000000   \n",
       "mean     15.060959     2.758904     43.489041     6.321918  2007.815753   \n",
       "std      55.757415    40.177307    496.123024     2.703626     1.328095   \n",
       "min       0.000000     0.000000      0.000000     1.000000  2006.000000   \n",
       "25%       0.000000     0.000000      0.000000     5.000000  2007.000000   \n",
       "50%       0.000000     0.000000      0.000000     6.000000  2008.000000   \n",
       "75%       0.000000     0.000000      0.000000     8.000000  2009.000000   \n",
       "max     480.000000   738.000000  15500.000000    12.000000  2010.000000   \n",
       "\n",
       "           SalePrice  \n",
       "count    1460.000000  \n",
       "mean   180921.195890  \n",
       "std     79442.502883  \n",
       "min     34900.000000  \n",
       "25%    129975.000000  \n",
       "50%    163000.000000  \n",
       "75%    214000.000000  \n",
       "max    755000.000000  \n",
       "\n",
       "[8 rows x 38 columns]"
      ]
     },
     "execution_count": 8,
     "metadata": {},
     "output_type": "execute_result"
    }
   ],
   "source": [
    "housing_data.describe()"
   ]
  },
  {
   "cell_type": "code",
   "execution_count": 9,
   "metadata": {},
   "outputs": [
    {
     "data": {
      "text/plain": [
       "Index(['LotFrontage', 'LotArea', 'OverallQual', 'OverallCond', 'YearBuilt',\n",
       "       'YearRemodAdd', 'MasVnrArea', 'BsmtFinSF1', 'BsmtFinSF2', 'BsmtUnfSF',\n",
       "       'TotalBsmtSF', '1stFlrSF', '2ndFlrSF', 'LowQualFinSF', 'GrLivArea',\n",
       "       'BsmtFullBath', 'BsmtHalfBath', 'FullBath', 'HalfBath', 'BedroomAbvGr',\n",
       "       'KitchenAbvGr', 'TotRmsAbvGrd', 'Fireplaces', 'GarageYrBlt',\n",
       "       'GarageCars', 'GarageArea', 'WoodDeckSF', 'OpenPorchSF',\n",
       "       'EnclosedPorch', '3SsnPorch', 'ScreenPorch', 'PoolArea', 'MiscVal',\n",
       "       'MoSold', 'YrSold', 'SalePrice'],\n",
       "      dtype='object')"
      ]
     },
     "execution_count": 9,
     "metadata": {},
     "output_type": "execute_result"
    }
   ],
   "source": [
    "numeric_col = housing_data.describe().columns[2:]\n",
    "numeric_col"
   ]
  },
  {
   "cell_type": "code",
   "execution_count": 10,
   "metadata": {},
   "outputs": [],
   "source": [
    "housing_data_num = housing_data[numeric_col]"
   ]
  },
  {
   "cell_type": "code",
   "execution_count": 11,
   "metadata": {},
   "outputs": [
    {
     "data": {
      "text/plain": [
       "SalePrice       1.000000\n",
       "OverallQual     0.790982\n",
       "GrLivArea       0.708624\n",
       "GarageCars      0.640409\n",
       "GarageArea      0.623431\n",
       "TotalBsmtSF     0.613581\n",
       "1stFlrSF        0.605852\n",
       "FullBath        0.560664\n",
       "TotRmsAbvGrd    0.533723\n",
       "YearBuilt       0.522897\n",
       "YearRemodAdd    0.507101\n",
       "GarageYrBlt     0.486362\n",
       "MasVnrArea      0.477493\n",
       "Fireplaces      0.466929\n",
       "BsmtFinSF1      0.386420\n",
       "LotFrontage     0.351799\n",
       "WoodDeckSF      0.324413\n",
       "2ndFlrSF        0.319334\n",
       "OpenPorchSF     0.315856\n",
       "HalfBath        0.284108\n",
       "Name: SalePrice, dtype: float64"
      ]
     },
     "execution_count": 11,
     "metadata": {},
     "output_type": "execute_result"
    }
   ],
   "source": [
    "numeric_corr = housing_data_num.corr()['SalePrice'].sort_values(ascending = False)\n",
    "numeric_corr.head(20)"
   ]
  },
  {
   "cell_type": "code",
   "execution_count": 12,
   "metadata": {},
   "outputs": [
    {
     "data": {
      "text/plain": [
       "SalePrice        1.000000\n",
       "OverallQual      0.790982\n",
       "GrLivArea        0.708624\n",
       "GarageCars       0.640409\n",
       "GarageArea       0.623431\n",
       "TotalBsmtSF      0.613581\n",
       "1stFlrSF         0.605852\n",
       "FullBath         0.560664\n",
       "TotRmsAbvGrd     0.533723\n",
       "YearBuilt        0.522897\n",
       "YearRemodAdd     0.507101\n",
       "GarageYrBlt      0.486362\n",
       "MasVnrArea       0.477493\n",
       "Fireplaces       0.466929\n",
       "BsmtFinSF1       0.386420\n",
       "LotFrontage      0.351799\n",
       "WoodDeckSF       0.324413\n",
       "2ndFlrSF         0.319334\n",
       "OpenPorchSF      0.315856\n",
       "HalfBath         0.284108\n",
       "LotArea          0.263843\n",
       "BsmtFullBath     0.227122\n",
       "BsmtUnfSF        0.214479\n",
       "BedroomAbvGr     0.168213\n",
       "ScreenPorch      0.111447\n",
       "PoolArea         0.092404\n",
       "MoSold           0.046432\n",
       "3SsnPorch        0.044584\n",
       "BsmtFinSF2      -0.011378\n",
       "BsmtHalfBath    -0.016844\n",
       "MiscVal         -0.021190\n",
       "LowQualFinSF    -0.025606\n",
       "YrSold          -0.028923\n",
       "OverallCond     -0.077856\n",
       "EnclosedPorch   -0.128578\n",
       "KitchenAbvGr    -0.135907\n",
       "Name: SalePrice, dtype: float64"
      ]
     },
     "execution_count": 12,
     "metadata": {},
     "output_type": "execute_result"
    }
   ],
   "source": [
    "numeric_corr"
   ]
  },
  {
   "cell_type": "code",
   "execution_count": 13,
   "metadata": {},
   "outputs": [],
   "source": [
    "%matplotlib inline"
   ]
  },
  {
   "cell_type": "code",
   "execution_count": 14,
   "metadata": {},
   "outputs": [],
   "source": [
    "attributes = numeric_corr.index[1:]"
   ]
  },
  {
   "cell_type": "code",
   "execution_count": 15,
   "metadata": {},
   "outputs": [
    {
     "data": {
      "text/plain": [
       "5     397\n",
       "6     374\n",
       "7     319\n",
       "8     168\n",
       "4     116\n",
       "9      43\n",
       "3      20\n",
       "10     18\n",
       "2       3\n",
       "1       2\n",
       "Name: OverallQual, dtype: int64"
      ]
     },
     "execution_count": 15,
     "metadata": {},
     "output_type": "execute_result"
    }
   ],
   "source": [
    "housing_data_num['OverallQual'].value_counts()"
   ]
  },
  {
   "cell_type": "code",
   "execution_count": 16,
   "metadata": {},
   "outputs": [],
   "source": [
    "housing = housing_data_num.drop('SalePrice', axis = 1)\n",
    "housing_labels = housing_data_num['SalePrice'].copy()"
   ]
  },
  {
   "cell_type": "code",
   "execution_count": 29,
   "metadata": {},
   "outputs": [
    {
     "name": "stdout",
     "output_type": "stream",
     "text": [
      "<class 'pandas.core.frame.DataFrame'>\n",
      "RangeIndex: 1460 entries, 0 to 1459\n",
      "Data columns (total 35 columns):\n",
      "LotFrontage      1460 non-null float64\n",
      "LotArea          1460 non-null int64\n",
      "OverallQual      1460 non-null int64\n",
      "OverallCond      1460 non-null int64\n",
      "YearBuilt        1460 non-null int64\n",
      "YearRemodAdd     1460 non-null int64\n",
      "MasVnrArea       1460 non-null float64\n",
      "BsmtFinSF1       1460 non-null int64\n",
      "BsmtFinSF2       1460 non-null int64\n",
      "BsmtUnfSF        1460 non-null int64\n",
      "TotalBsmtSF      1460 non-null int64\n",
      "1stFlrSF         1460 non-null int64\n",
      "2ndFlrSF         1460 non-null int64\n",
      "LowQualFinSF     1460 non-null int64\n",
      "GrLivArea        1460 non-null int64\n",
      "BsmtFullBath     1460 non-null int64\n",
      "BsmtHalfBath     1460 non-null int64\n",
      "FullBath         1460 non-null int64\n",
      "HalfBath         1460 non-null int64\n",
      "BedroomAbvGr     1460 non-null int64\n",
      "KitchenAbvGr     1460 non-null int64\n",
      "TotRmsAbvGrd     1460 non-null int64\n",
      "Fireplaces       1460 non-null int64\n",
      "GarageYrBlt      1460 non-null float64\n",
      "GarageCars       1460 non-null int64\n",
      "GarageArea       1460 non-null int64\n",
      "WoodDeckSF       1460 non-null int64\n",
      "OpenPorchSF      1460 non-null int64\n",
      "EnclosedPorch    1460 non-null int64\n",
      "3SsnPorch        1460 non-null int64\n",
      "ScreenPorch      1460 non-null int64\n",
      "PoolArea         1460 non-null int64\n",
      "MiscVal          1460 non-null int64\n",
      "MoSold           1460 non-null int64\n",
      "YrSold           1460 non-null int64\n",
      "dtypes: float64(3), int64(32)\n",
      "memory usage: 399.3 KB\n"
     ]
    }
   ],
   "source": [
    "housing.info()"
   ]
  },
  {
   "cell_type": "code",
   "execution_count": 17,
   "metadata": {},
   "outputs": [
    {
     "data": {
      "text/plain": [
       "0"
      ]
     },
     "execution_count": 17,
     "metadata": {},
     "output_type": "execute_result"
    }
   ],
   "source": [
    "housing_labels.isna().sum()"
   ]
  },
  {
   "cell_type": "code",
   "execution_count": 18,
   "metadata": {},
   "outputs": [
    {
     "data": {
      "text/plain": [
       "LotFrontage      259\n",
       "LotArea            0\n",
       "OverallQual        0\n",
       "OverallCond        0\n",
       "YearBuilt          0\n",
       "YearRemodAdd       0\n",
       "MasVnrArea         8\n",
       "BsmtFinSF1         0\n",
       "BsmtFinSF2         0\n",
       "BsmtUnfSF          0\n",
       "TotalBsmtSF        0\n",
       "1stFlrSF           0\n",
       "2ndFlrSF           0\n",
       "LowQualFinSF       0\n",
       "GrLivArea          0\n",
       "BsmtFullBath       0\n",
       "BsmtHalfBath       0\n",
       "FullBath           0\n",
       "HalfBath           0\n",
       "BedroomAbvGr       0\n",
       "KitchenAbvGr       0\n",
       "TotRmsAbvGrd       0\n",
       "Fireplaces         0\n",
       "GarageYrBlt       81\n",
       "GarageCars         0\n",
       "GarageArea         0\n",
       "WoodDeckSF         0\n",
       "OpenPorchSF        0\n",
       "EnclosedPorch      0\n",
       "3SsnPorch          0\n",
       "ScreenPorch        0\n",
       "PoolArea           0\n",
       "MiscVal            0\n",
       "MoSold             0\n",
       "YrSold             0\n",
       "dtype: int64"
      ]
     },
     "execution_count": 18,
     "metadata": {},
     "output_type": "execute_result"
    }
   ],
   "source": [
    "housing.isna().sum()"
   ]
  },
  {
   "cell_type": "markdown",
   "metadata": {},
   "source": [
    "#housing = housing.drop(['LotFrontage','GarageYrBlt'], axis = 1)\n",
    "\n",
    "from sklearn.preprocessing import Imputer\n",
    "imputer = Imputer(strategy=\"median\")\n",
    "\n",
    "housing = imputer.fit_transform(housing)"
   ]
  },
  {
   "cell_type": "code",
   "execution_count": 19,
   "metadata": {},
   "outputs": [],
   "source": [
    "lf_median = housing_data['LotFrontage'].median()\n",
    "gyb_median = housing_data['GarageYrBlt'].median()\n",
    "\n",
    "values = {'LotFrontage': lf_median, 'GarageYrBlt': gyb_median, 'MasVnrArea': 0, }\n",
    "housing.fillna(value=values, inplace = True)"
   ]
  },
  {
   "cell_type": "code",
   "execution_count": 20,
   "metadata": {},
   "outputs": [],
   "source": [
    "from sklearn.tree import DecisionTreeRegressor\n",
    "tree_reg = DecisionTreeRegressor(random_state = 42)"
   ]
  },
  {
   "cell_type": "code",
   "execution_count": 21,
   "metadata": {},
   "outputs": [],
   "source": [
    "from sklearn.model_selection import cross_val_score\n",
    "scores = cross_val_score(tree_reg, housing, housing_labels, scoring=\"neg_mean_squared_error\", cv=10)\n",
    "tree_rmse_scores = np.sqrt(-scores)"
   ]
  },
  {
   "cell_type": "code",
   "execution_count": 22,
   "metadata": {},
   "outputs": [],
   "source": [
    "def display_scores(scores):\n",
    "    print(\"Scores:\", scores)\n",
    "    print(\"Mean:\", scores.mean())\n",
    "    print(\"Standard deviation:\", scores.std())"
   ]
  },
  {
   "cell_type": "code",
   "execution_count": 23,
   "metadata": {},
   "outputs": [
    {
     "name": "stdout",
     "output_type": "stream",
     "text": [
      "Scores: [35403.47927237 37783.10895041 32226.82654791 45996.39603981\n",
      " 38848.70758918 31078.94618339 36423.14355909 33700.31229826\n",
      " 58169.74353804 37894.90991391]\n",
      "Mean: 38752.557389236\n",
      "Standard deviation: 7581.7022897053785\n"
     ]
    }
   ],
   "source": [
    "display_scores(tree_rmse_scores)"
   ]
  },
  {
   "cell_type": "code",
   "execution_count": 24,
   "metadata": {},
   "outputs": [],
   "source": [
    "from sklearn.linear_model import LinearRegression\n",
    "lin_reg = LinearRegression()\n",
    "\n",
    "scores = cross_val_score(lin_reg, housing, housing_labels, scoring=\"neg_mean_squared_error\", cv=10)\n",
    "lin_rmse_scores = np.sqrt(-scores)"
   ]
  },
  {
   "cell_type": "code",
   "execution_count": 25,
   "metadata": {},
   "outputs": [
    {
     "name": "stdout",
     "output_type": "stream",
     "text": [
      "Scores: [28383.4585999  30021.2348714  26892.61567888 42024.9087222\n",
      " 40612.6478668  31406.91012591 30071.47596465 30818.10672053\n",
      " 65853.24520307 29472.21573748]\n",
      "Mean: 35555.6819490814\n",
      "Standard deviation: 11176.885751437801\n"
     ]
    }
   ],
   "source": [
    "display_scores(lin_rmse_scores)"
   ]
  },
  {
   "cell_type": "code",
   "execution_count": 22,
   "metadata": {},
   "outputs": [],
   "source": [
    "from sklearn.preprocessing import StandardScaler\n",
    "\n",
    "scaler = StandardScaler()"
   ]
  },
  {
   "cell_type": "markdown",
   "metadata": {},
   "source": [
    "from sklearn.preprocessing import MinMaxScaler\n",
    "\n",
    "scaler = MinMaxScaler()"
   ]
  },
  {
   "cell_type": "code",
   "execution_count": 24,
   "metadata": {},
   "outputs": [],
   "source": [
    "from sklearn.model_selection import GridSearchCV\n",
    "from sklearn.model_selection import RandomizedSearchCV\n",
    "\n",
    "from sklearn.ensemble import RandomForestRegressor\n",
    "forest_reg = RandomForestRegressor(random_state = 42)"
   ]
  },
  {
   "cell_type": "code",
   "execution_count": 25,
   "metadata": {},
   "outputs": [
    {
     "data": {
      "text/plain": [
       "GridSearchCV(cv=10, error_score='raise-deprecating',\n",
       "       estimator=RandomForestRegressor(bootstrap=True, criterion='mse', max_depth=None,\n",
       "           max_features='auto', max_leaf_nodes=None,\n",
       "           min_impurity_decrease=0.0, min_impurity_split=None,\n",
       "           min_samples_leaf=1, min_samples_split=2,\n",
       "           min_weight_fraction_leaf=0.0, n_estimators='warn', n_jobs=None,\n",
       "           oob_score=False, random_state=42, verbose=0, warm_start=False),\n",
       "       fit_params=None, iid='warn', n_jobs=None,\n",
       "       param_grid=[{'n_estimators': [3, 6, 9, 10, 15, 20, 30, 50], 'max_features': [2, 4, 6, 8, 10, 12, 14, 15]}, {'bootstrap': [False], 'n_estimators': [3, 6, 9, 10, 15, 20, 30, 50], 'max_features': [2, 4, 6, 8, 10, 12, 14, 15]}],\n",
       "       pre_dispatch='2*n_jobs', refit=True, return_train_score='warn',\n",
       "       scoring='neg_mean_squared_error', verbose=0)"
      ]
     },
     "execution_count": 25,
     "metadata": {},
     "output_type": "execute_result"
    }
   ],
   "source": [
    "param_grid = [ \n",
    "    {'n_estimators' : [3, 6, 9 , 10, 15, 20, 30, 50], 'max_features': [2, 4, 6, 8, 10, 12, 14, 15]},\n",
    "    {'bootstrap': [False], 'n_estimators' : [3, 6, 9 , 10, 15, 20, 30, 50], 'max_features':[2, 4, 6, 8, 10, 12, 14, 15] },\n",
    "    \n",
    "]\n",
    "\n",
    "grid_search = GridSearchCV(forest_reg, param_grid, cv = 10, scoring = 'neg_mean_squared_error')\n",
    "\n",
    "grid_search.fit(housing_scaled, housing_labels)"
   ]
  },
  {
   "cell_type": "code",
   "execution_count": 26,
   "metadata": {},
   "outputs": [
    {
     "data": {
      "text/plain": [
       "{'bootstrap': False, 'max_features': 10, 'n_estimators': 30}"
      ]
     },
     "execution_count": 26,
     "metadata": {},
     "output_type": "execute_result"
    }
   ],
   "source": [
    "grid_search.best_params_"
   ]
  },
  {
   "cell_type": "code",
   "execution_count": 27,
   "metadata": {},
   "outputs": [
    {
     "name": "stdout",
     "output_type": "stream",
     "text": [
      "40313.557183206976 {'max_features': 2, 'n_estimators': 3}\n",
      "36018.4824532102 {'max_features': 2, 'n_estimators': 6}\n",
      "34061.74865299846 {'max_features': 2, 'n_estimators': 9}\n",
      "33760.90121587345 {'max_features': 2, 'n_estimators': 10}\n",
      "32558.277302911647 {'max_features': 2, 'n_estimators': 15}\n",
      "32664.695057385496 {'max_features': 2, 'n_estimators': 20}\n",
      "32373.138683000994 {'max_features': 2, 'n_estimators': 30}\n",
      "31624.932822914943 {'max_features': 2, 'n_estimators': 50}\n",
      "38716.54995085181 {'max_features': 4, 'n_estimators': 3}\n",
      "36154.83997449991 {'max_features': 4, 'n_estimators': 6}\n",
      "34160.10290212184 {'max_features': 4, 'n_estimators': 9}\n",
      "33607.57182940592 {'max_features': 4, 'n_estimators': 10}\n",
      "32405.532934456474 {'max_features': 4, 'n_estimators': 15}\n",
      "31887.953867361244 {'max_features': 4, 'n_estimators': 20}\n",
      "31318.687979901944 {'max_features': 4, 'n_estimators': 30}\n",
      "30313.938391538977 {'max_features': 4, 'n_estimators': 50}\n",
      "37789.03252648005 {'max_features': 6, 'n_estimators': 3}\n",
      "34888.55586958186 {'max_features': 6, 'n_estimators': 6}\n",
      "33436.504381740735 {'max_features': 6, 'n_estimators': 9}\n",
      "33196.9182243257 {'max_features': 6, 'n_estimators': 10}\n",
      "31815.368962166573 {'max_features': 6, 'n_estimators': 15}\n",
      "31940.588096603922 {'max_features': 6, 'n_estimators': 20}\n",
      "31657.39559678326 {'max_features': 6, 'n_estimators': 30}\n",
      "30348.824416648826 {'max_features': 6, 'n_estimators': 50}\n",
      "38151.74789885947 {'max_features': 8, 'n_estimators': 3}\n",
      "34022.623821976405 {'max_features': 8, 'n_estimators': 6}\n",
      "32226.364486269795 {'max_features': 8, 'n_estimators': 9}\n",
      "31662.239710678856 {'max_features': 8, 'n_estimators': 10}\n",
      "30653.984252092767 {'max_features': 8, 'n_estimators': 15}\n",
      "30319.120151545358 {'max_features': 8, 'n_estimators': 20}\n",
      "29817.483251460584 {'max_features': 8, 'n_estimators': 30}\n",
      "29631.061469851436 {'max_features': 8, 'n_estimators': 50}\n",
      "37381.22846695119 {'max_features': 10, 'n_estimators': 3}\n",
      "34089.638786258896 {'max_features': 10, 'n_estimators': 6}\n",
      "32711.60128155943 {'max_features': 10, 'n_estimators': 9}\n",
      "32556.300759740167 {'max_features': 10, 'n_estimators': 10}\n",
      "31428.67515439534 {'max_features': 10, 'n_estimators': 15}\n",
      "30936.054473763495 {'max_features': 10, 'n_estimators': 20}\n",
      "30829.057399963072 {'max_features': 10, 'n_estimators': 30}\n",
      "30480.963555936152 {'max_features': 10, 'n_estimators': 50}\n",
      "33892.823658794405 {'max_features': 12, 'n_estimators': 3}\n",
      "32812.736989015306 {'max_features': 12, 'n_estimators': 6}\n",
      "31776.295755534527 {'max_features': 12, 'n_estimators': 9}\n",
      "31811.096163015132 {'max_features': 12, 'n_estimators': 10}\n",
      "31265.72076470277 {'max_features': 12, 'n_estimators': 15}\n",
      "30951.035435071273 {'max_features': 12, 'n_estimators': 20}\n",
      "30478.00595268873 {'max_features': 12, 'n_estimators': 30}\n",
      "29795.36898839532 {'max_features': 12, 'n_estimators': 50}\n",
      "36971.56511140569 {'max_features': 14, 'n_estimators': 3}\n",
      "33473.509417490015 {'max_features': 14, 'n_estimators': 6}\n",
      "32147.485954860746 {'max_features': 14, 'n_estimators': 9}\n",
      "31648.69141794818 {'max_features': 14, 'n_estimators': 10}\n",
      "31412.421860672646 {'max_features': 14, 'n_estimators': 15}\n",
      "30657.18546152343 {'max_features': 14, 'n_estimators': 20}\n",
      "30311.37913155676 {'max_features': 14, 'n_estimators': 30}\n",
      "29729.683574847324 {'max_features': 14, 'n_estimators': 50}\n",
      "37251.289756416685 {'max_features': 15, 'n_estimators': 3}\n",
      "33816.152499314114 {'max_features': 15, 'n_estimators': 6}\n",
      "32504.93510545139 {'max_features': 15, 'n_estimators': 9}\n",
      "32218.846711919792 {'max_features': 15, 'n_estimators': 10}\n",
      "30445.938119009174 {'max_features': 15, 'n_estimators': 15}\n",
      "29815.757631081327 {'max_features': 15, 'n_estimators': 20}\n",
      "29496.508965851073 {'max_features': 15, 'n_estimators': 30}\n",
      "29127.46563571174 {'max_features': 15, 'n_estimators': 50}\n",
      "35856.61107000983 {'bootstrap': False, 'max_features': 2, 'n_estimators': 3}\n",
      "34333.65139883476 {'bootstrap': False, 'max_features': 2, 'n_estimators': 6}\n",
      "32676.355182001575 {'bootstrap': False, 'max_features': 2, 'n_estimators': 9}\n",
      "32314.60930316675 {'bootstrap': False, 'max_features': 2, 'n_estimators': 10}\n",
      "31944.43703219867 {'bootstrap': False, 'max_features': 2, 'n_estimators': 15}\n",
      "31802.119427442653 {'bootstrap': False, 'max_features': 2, 'n_estimators': 20}\n",
      "31176.212506577223 {'bootstrap': False, 'max_features': 2, 'n_estimators': 30}\n",
      "30336.21297317902 {'bootstrap': False, 'max_features': 2, 'n_estimators': 50}\n",
      "35388.42748539688 {'bootstrap': False, 'max_features': 4, 'n_estimators': 3}\n",
      "32873.8856405007 {'bootstrap': False, 'max_features': 4, 'n_estimators': 6}\n",
      "32912.29509165847 {'bootstrap': False, 'max_features': 4, 'n_estimators': 9}\n",
      "32620.107128407377 {'bootstrap': False, 'max_features': 4, 'n_estimators': 10}\n",
      "32116.555193833367 {'bootstrap': False, 'max_features': 4, 'n_estimators': 15}\n",
      "31127.698789717964 {'bootstrap': False, 'max_features': 4, 'n_estimators': 20}\n",
      "29930.261931426663 {'bootstrap': False, 'max_features': 4, 'n_estimators': 30}\n",
      "29211.813490841814 {'bootstrap': False, 'max_features': 4, 'n_estimators': 50}\n",
      "34529.196485472174 {'bootstrap': False, 'max_features': 6, 'n_estimators': 3}\n",
      "32596.99451394735 {'bootstrap': False, 'max_features': 6, 'n_estimators': 6}\n",
      "30340.201805107652 {'bootstrap': False, 'max_features': 6, 'n_estimators': 9}\n",
      "30516.649588816876 {'bootstrap': False, 'max_features': 6, 'n_estimators': 10}\n",
      "30166.63843173824 {'bootstrap': False, 'max_features': 6, 'n_estimators': 15}\n",
      "29652.04333657973 {'bootstrap': False, 'max_features': 6, 'n_estimators': 20}\n",
      "29444.709192948874 {'bootstrap': False, 'max_features': 6, 'n_estimators': 30}\n",
      "29041.7142599554 {'bootstrap': False, 'max_features': 6, 'n_estimators': 50}\n",
      "35047.14770392407 {'bootstrap': False, 'max_features': 8, 'n_estimators': 3}\n",
      "32912.70602874994 {'bootstrap': False, 'max_features': 8, 'n_estimators': 6}\n",
      "31359.54281442341 {'bootstrap': False, 'max_features': 8, 'n_estimators': 9}\n",
      "31163.094967561996 {'bootstrap': False, 'max_features': 8, 'n_estimators': 10}\n",
      "29805.837348170855 {'bootstrap': False, 'max_features': 8, 'n_estimators': 15}\n",
      "29032.35353688882 {'bootstrap': False, 'max_features': 8, 'n_estimators': 20}\n",
      "29040.445288073122 {'bootstrap': False, 'max_features': 8, 'n_estimators': 30}\n",
      "28918.244447944846 {'bootstrap': False, 'max_features': 8, 'n_estimators': 50}\n",
      "33828.631216053516 {'bootstrap': False, 'max_features': 10, 'n_estimators': 3}\n",
      "31418.44522370123 {'bootstrap': False, 'max_features': 10, 'n_estimators': 6}\n",
      "30818.45135716396 {'bootstrap': False, 'max_features': 10, 'n_estimators': 9}\n",
      "30734.963452085212 {'bootstrap': False, 'max_features': 10, 'n_estimators': 10}\n",
      "29934.502625604753 {'bootstrap': False, 'max_features': 10, 'n_estimators': 15}\n",
      "29899.106050769897 {'bootstrap': False, 'max_features': 10, 'n_estimators': 20}\n",
      "28816.11384287395 {'bootstrap': False, 'max_features': 10, 'n_estimators': 30}\n",
      "28834.327311934663 {'bootstrap': False, 'max_features': 10, 'n_estimators': 50}\n",
      "33866.762506969884 {'bootstrap': False, 'max_features': 12, 'n_estimators': 3}\n",
      "32321.746539625077 {'bootstrap': False, 'max_features': 12, 'n_estimators': 6}\n",
      "31152.358271586687 {'bootstrap': False, 'max_features': 12, 'n_estimators': 9}\n",
      "31083.071622815125 {'bootstrap': False, 'max_features': 12, 'n_estimators': 10}\n",
      "29832.87695638377 {'bootstrap': False, 'max_features': 12, 'n_estimators': 15}\n",
      "29981.857216567954 {'bootstrap': False, 'max_features': 12, 'n_estimators': 20}\n",
      "29666.13271502051 {'bootstrap': False, 'max_features': 12, 'n_estimators': 30}\n",
      "28854.88246813424 {'bootstrap': False, 'max_features': 12, 'n_estimators': 50}\n",
      "35227.98349336544 {'bootstrap': False, 'max_features': 14, 'n_estimators': 3}\n",
      "31134.31725768143 {'bootstrap': False, 'max_features': 14, 'n_estimators': 6}\n",
      "30081.096193851732 {'bootstrap': False, 'max_features': 14, 'n_estimators': 9}\n",
      "29982.63806400023 {'bootstrap': False, 'max_features': 14, 'n_estimators': 10}\n",
      "29678.978245947856 {'bootstrap': False, 'max_features': 14, 'n_estimators': 15}\n",
      "29482.7636561353 {'bootstrap': False, 'max_features': 14, 'n_estimators': 20}\n",
      "29236.18138210848 {'bootstrap': False, 'max_features': 14, 'n_estimators': 30}\n",
      "29014.986556119107 {'bootstrap': False, 'max_features': 14, 'n_estimators': 50}\n",
      "34626.611756635226 {'bootstrap': False, 'max_features': 15, 'n_estimators': 3}\n",
      "30845.077425359883 {'bootstrap': False, 'max_features': 15, 'n_estimators': 6}\n",
      "29911.051949572535 {'bootstrap': False, 'max_features': 15, 'n_estimators': 9}\n",
      "30323.029060670604 {'bootstrap': False, 'max_features': 15, 'n_estimators': 10}\n",
      "30506.502341523603 {'bootstrap': False, 'max_features': 15, 'n_estimators': 15}\n",
      "29871.964842388 {'bootstrap': False, 'max_features': 15, 'n_estimators': 20}\n",
      "29316.338123152287 {'bootstrap': False, 'max_features': 15, 'n_estimators': 30}\n",
      "29054.583325393396 {'bootstrap': False, 'max_features': 15, 'n_estimators': 50}\n"
     ]
    }
   ],
   "source": [
    "cvres = grid_search.cv_results_\n",
    "for mean_score, params in zip(cvres[\"mean_test_score\"], cvres[\"params\"]):\n",
    "    print(np.sqrt(-mean_score), params)"
   ]
  },
  {
   "cell_type": "code",
   "execution_count": 30,
   "metadata": {},
   "outputs": [
    {
     "data": {
      "text/plain": [
       "RandomizedSearchCV(cv=10, error_score='raise-deprecating',\n",
       "          estimator=RandomForestRegressor(bootstrap=True, criterion='mse', max_depth=None,\n",
       "           max_features='auto', max_leaf_nodes=None,\n",
       "           min_impurity_decrease=0.0, min_impurity_split=None,\n",
       "           min_samples_leaf=1, min_samples_split=2,\n",
       "           min_weight_fraction_leaf=0.0, n_estimators='warn', n_jobs=None,\n",
       "           oob_score=False, random_state=42, verbose=0, warm_start=False),\n",
       "          fit_params=None, iid='warn', n_iter=100, n_jobs=None,\n",
       "          param_distributions={'n_estimators': [3, 4, 5, 6, 7, 8, 9, 10, 11, 12, 13, 14, 15, 16, 17, 18, 19, 20, 21, 22, 23, 24, 25, 26, 27, 28, 29, 30, 31, 32, 33, 34, 35, 36, 37, 38, 39, 40, 41, 42, 43, 44, 45, 46, 47, 48, 49, 50, 51, 52, 53, 54, 55, 56, 57, 58, 59], 'max_features': [3, 4, 5, 6, 7, 8, 9, 10, 11, 12, 13, 14, 15, 16, 17, 18, 19, 20, 21, 22, 23, 24, 25, 26, 27, 28, 29], 'bootstrap': [False]},\n",
       "          pre_dispatch='2*n_jobs', random_state=None, refit=True,\n",
       "          return_train_score='warn', scoring='neg_mean_squared_error',\n",
       "          verbose=0)"
      ]
     },
     "execution_count": 30,
     "metadata": {},
     "output_type": "execute_result"
    }
   ],
   "source": [
    "param_grid = {'n_estimators' : list(range(3, 60)), 'max_features': list(range(3, 30)), 'bootstrap': [False]}\n",
    "\n",
    "grid_search = RandomizedSearchCV(forest_reg, param_grid, cv = 10, n_iter = 100, scoring = 'neg_mean_squared_error')\n",
    "\n",
    "grid_search.fit(housing_scaled, housing_labels)"
   ]
  },
  {
   "cell_type": "code",
   "execution_count": 33,
   "metadata": {},
   "outputs": [
    {
     "data": {
      "text/plain": [
       "[(0.2389452976001587, 'OverallQual'),\n",
       " (0.14506999585425331, 'GrLivArea'),\n",
       " (0.08915598864651797, 'GarageCars'),\n",
       " (0.07460308427195834, 'TotalBsmtSF'),\n",
       " (0.06664325163625943, 'YearBuilt'),\n",
       " (0.06146688024881677, 'GarageArea'),\n",
       " (0.05866814933839687, '1stFlrSF'),\n",
       " (0.03674182623730724, '2ndFlrSF'),\n",
       " (0.03269795281726134, 'BsmtFinSF1'),\n",
       " (0.023816667985711738, 'FullBath'),\n",
       " (0.02134029411912672, 'YearRemodAdd'),\n",
       " (0.018289435317097192, 'TotRmsAbvGrd'),\n",
       " (0.017453118427017494, 'Fireplaces'),\n",
       " (0.016560202269476004, 'LotArea'),\n",
       " (0.01474179208715508, 'GarageYrBlt'),\n",
       " (0.010721970041764013, 'MasVnrArea'),\n",
       " (0.009710178478891204, 'OpenPorchSF'),\n",
       " (0.009526241744897189, 'LotFrontage'),\n",
       " (0.008402801744470115, 'BsmtUnfSF'),\n",
       " (0.007114856124653201, 'OverallCond'),\n",
       " (0.007030559114000595, 'BedroomAbvGr'),\n",
       " (0.006130742361140982, 'WoodDeckSF'),\n",
       " (0.004874896900307765, 'HalfBath'),\n",
       " (0.00427374404301598, 'MoSold'),\n",
       " (0.0030307361664192556, 'BsmtFullBath'),\n",
       " (0.0026780673598745144, 'KitchenAbvGr'),\n",
       " (0.0022866242381282017, 'YrSold'),\n",
       " (0.0016640945853015968, 'EnclosedPorch'),\n",
       " (0.001625244905008479, 'ScreenPorch'),\n",
       " (0.0013819786369607537, 'PoolArea'),\n",
       " (0.0011461548594028307, 'BsmtFinSF2'),\n",
       " (0.0010976951005655581, 'BsmtHalfBath'),\n",
       " (0.0003996107240381438, 'LowQualFinSF'),\n",
       " (0.0003615831714311609, '3SsnPorch'),\n",
       " (0.00034828284321412786, 'MiscVal')]"
      ]
     },
     "execution_count": 33,
     "metadata": {},
     "output_type": "execute_result"
    }
   ],
   "source": [
    "attributes = numeric_col[:-1]\n",
    "feature_importances = grid_search.best_estimator_.feature_importances_\n",
    "sorted(zip(feature_importances, attributes), reverse=True)"
   ]
  },
  {
   "cell_type": "code",
   "execution_count": 31,
   "metadata": {},
   "outputs": [
    {
     "data": {
      "text/plain": [
       "{'bootstrap': False, 'max_features': 9, 'n_estimators': 58}"
      ]
     },
     "execution_count": 31,
     "metadata": {},
     "output_type": "execute_result"
    }
   ],
   "source": [
    "grid_search.best_params_"
   ]
  },
  {
   "cell_type": "code",
   "execution_count": 32,
   "metadata": {},
   "outputs": [
    {
     "name": "stdout",
     "output_type": "stream",
     "text": [
      "29681.599647596347 {'n_estimators': 22, 'max_features': 11, 'bootstrap': False}\n",
      "29564.652990853432 {'n_estimators': 55, 'max_features': 16, 'bootstrap': False}\n",
      "29815.19919482037 {'n_estimators': 45, 'max_features': 3, 'bootstrap': False}\n",
      "31384.16439987276 {'n_estimators': 58, 'max_features': 28, 'bootstrap': False}\n",
      "30274.35775698467 {'n_estimators': 19, 'max_features': 23, 'bootstrap': False}\n",
      "32536.56709975148 {'n_estimators': 16, 'max_features': 29, 'bootstrap': False}\n",
      "29950.51411106374 {'n_estimators': 27, 'max_features': 21, 'bootstrap': False}\n",
      "29528.572589134186 {'n_estimators': 50, 'max_features': 21, 'bootstrap': False}\n",
      "29936.477505374514 {'n_estimators': 22, 'max_features': 12, 'bootstrap': False}\n",
      "29408.70412636958 {'n_estimators': 42, 'max_features': 5, 'bootstrap': False}\n",
      "32106.53358428233 {'n_estimators': 6, 'max_features': 5, 'bootstrap': False}\n",
      "30728.06797093393 {'n_estimators': 10, 'max_features': 27, 'bootstrap': False}\n",
      "29110.296486671887 {'n_estimators': 28, 'max_features': 8, 'bootstrap': False}\n",
      "29110.626277711446 {'n_estimators': 24, 'max_features': 9, 'bootstrap': False}\n",
      "28815.859542129063 {'n_estimators': 55, 'max_features': 13, 'bootstrap': False}\n",
      "30382.179500239727 {'n_estimators': 22, 'max_features': 4, 'bootstrap': False}\n",
      "32563.058699596062 {'n_estimators': 11, 'max_features': 4, 'bootstrap': False}\n",
      "32260.3061206599 {'n_estimators': 11, 'max_features': 16, 'bootstrap': False}\n",
      "30375.6121892374 {'n_estimators': 6, 'max_features': 18, 'bootstrap': False}\n",
      "29491.302262123878 {'n_estimators': 25, 'max_features': 6, 'bootstrap': False}\n",
      "29985.50565439818 {'n_estimators': 24, 'max_features': 16, 'bootstrap': False}\n",
      "29553.00816715339 {'n_estimators': 53, 'max_features': 11, 'bootstrap': False}\n",
      "29296.881145964056 {'n_estimators': 51, 'max_features': 18, 'bootstrap': False}\n",
      "28677.16884284938 {'n_estimators': 31, 'max_features': 13, 'bootstrap': False}\n",
      "28483.959937829393 {'n_estimators': 42, 'max_features': 9, 'bootstrap': False}\n",
      "30336.423811999066 {'n_estimators': 31, 'max_features': 22, 'bootstrap': False}\n",
      "28810.09732626833 {'n_estimators': 29, 'max_features': 10, 'bootstrap': False}\n",
      "32251.429555827708 {'n_estimators': 34, 'max_features': 29, 'bootstrap': False}\n",
      "31165.462714669935 {'n_estimators': 33, 'max_features': 28, 'bootstrap': False}\n",
      "28863.093987982185 {'n_estimators': 59, 'max_features': 14, 'bootstrap': False}\n",
      "32014.84161910675 {'n_estimators': 4, 'max_features': 27, 'bootstrap': False}\n",
      "30956.325706254844 {'n_estimators': 38, 'max_features': 27, 'bootstrap': False}\n",
      "28622.879443370068 {'n_estimators': 49, 'max_features': 9, 'bootstrap': False}\n",
      "29418.09144391095 {'n_estimators': 58, 'max_features': 7, 'bootstrap': False}\n",
      "30276.60038114439 {'n_estimators': 17, 'max_features': 15, 'bootstrap': False}\n",
      "29458.993664418093 {'n_estimators': 56, 'max_features': 18, 'bootstrap': False}\n",
      "29474.329148997243 {'n_estimators': 40, 'max_features': 17, 'bootstrap': False}\n",
      "29444.709192948874 {'n_estimators': 30, 'max_features': 6, 'bootstrap': False}\n",
      "29806.666461239096 {'n_estimators': 13, 'max_features': 13, 'bootstrap': False}\n",
      "28998.62887546312 {'n_estimators': 39, 'max_features': 6, 'bootstrap': False}\n",
      "30301.615487077368 {'n_estimators': 29, 'max_features': 22, 'bootstrap': False}\n",
      "31048.12846723603 {'n_estimators': 19, 'max_features': 27, 'bootstrap': False}\n",
      "30053.34680484387 {'n_estimators': 22, 'max_features': 20, 'bootstrap': False}\n",
      "31061.578061918954 {'n_estimators': 50, 'max_features': 27, 'bootstrap': False}\n",
      "29120.08689231676 {'n_estimators': 52, 'max_features': 19, 'bootstrap': False}\n",
      "30213.295774795744 {'n_estimators': 41, 'max_features': 22, 'bootstrap': False}\n",
      "30694.79894630744 {'n_estimators': 31, 'max_features': 24, 'bootstrap': False}\n",
      "30895.77673264305 {'n_estimators': 22, 'max_features': 3, 'bootstrap': False}\n",
      "31232.964286620932 {'n_estimators': 13, 'max_features': 24, 'bootstrap': False}\n",
      "33054.27862439136 {'n_estimators': 4, 'max_features': 21, 'bootstrap': False}\n",
      "29330.87588925852 {'n_estimators': 32, 'max_features': 7, 'bootstrap': False}\n",
      "31529.561165875508 {'n_estimators': 5, 'max_features': 14, 'bootstrap': False}\n",
      "29714.50866536446 {'n_estimators': 31, 'max_features': 12, 'bootstrap': False}\n",
      "29480.26293649791 {'n_estimators': 59, 'max_features': 7, 'bootstrap': False}\n",
      "33571.32262998793 {'n_estimators': 5, 'max_features': 11, 'bootstrap': False}\n",
      "30615.65344248873 {'n_estimators': 56, 'max_features': 24, 'bootstrap': False}\n",
      "30355.33654238732 {'n_estimators': 43, 'max_features': 25, 'bootstrap': False}\n",
      "33272.96067441952 {'n_estimators': 9, 'max_features': 29, 'bootstrap': False}\n",
      "29903.07871297072 {'n_estimators': 40, 'max_features': 21, 'bootstrap': False}\n",
      "29537.186489620854 {'n_estimators': 17, 'max_features': 6, 'bootstrap': False}\n",
      "31610.882686653124 {'n_estimators': 18, 'max_features': 24, 'bootstrap': False}\n",
      "31124.65569073626 {'n_estimators': 49, 'max_features': 26, 'bootstrap': False}\n",
      "31997.92430556752 {'n_estimators': 10, 'max_features': 28, 'bootstrap': False}\n",
      "29488.937925459548 {'n_estimators': 36, 'max_features': 11, 'bootstrap': False}\n",
      "30567.615732023514 {'n_estimators': 15, 'max_features': 21, 'bootstrap': False}\n",
      "30993.551865562018 {'n_estimators': 54, 'max_features': 26, 'bootstrap': False}\n",
      "28922.42958785804 {'n_estimators': 27, 'max_features': 10, 'bootstrap': False}\n",
      "28732.780087873205 {'n_estimators': 30, 'max_features': 13, 'bootstrap': False}\n",
      "31188.64131493197 {'n_estimators': 19, 'max_features': 22, 'bootstrap': False}\n",
      "28989.825939272177 {'n_estimators': 54, 'max_features': 8, 'bootstrap': False}\n",
      "29951.82129459099 {'n_estimators': 58, 'max_features': 22, 'bootstrap': False}\n",
      "28931.17690435967 {'n_estimators': 55, 'max_features': 6, 'bootstrap': False}\n",
      "31409.563693566626 {'n_estimators': 32, 'max_features': 26, 'bootstrap': False}\n",
      "29764.298217870313 {'n_estimators': 30, 'max_features': 11, 'bootstrap': False}\n",
      "30007.971594980594 {'n_estimators': 55, 'max_features': 22, 'bootstrap': False}\n",
      "31021.844961693696 {'n_estimators': 51, 'max_features': 26, 'bootstrap': False}\n",
      "30995.57208168598 {'n_estimators': 55, 'max_features': 26, 'bootstrap': False}\n",
      "30836.587998130715 {'n_estimators': 14, 'max_features': 17, 'bootstrap': False}\n",
      "33866.762506969884 {'n_estimators': 3, 'max_features': 12, 'bootstrap': False}\n",
      "30319.07732577649 {'n_estimators': 40, 'max_features': 25, 'bootstrap': False}\n",
      "32477.28366275603 {'n_estimators': 48, 'max_features': 29, 'bootstrap': False}\n",
      "29607.58505712872 {'n_estimators': 43, 'max_features': 20, 'bootstrap': False}\n",
      "29922.610834472172 {'n_estimators': 29, 'max_features': 18, 'bootstrap': False}\n",
      "29804.93030695905 {'n_estimators': 16, 'max_features': 12, 'bootstrap': False}\n",
      "31483.676677162428 {'n_estimators': 16, 'max_features': 24, 'bootstrap': False}\n",
      "28968.707210094282 {'n_estimators': 39, 'max_features': 13, 'bootstrap': False}\n",
      "35185.6680455008 {'n_estimators': 4, 'max_features': 29, 'bootstrap': False}\n",
      "29195.17753140184 {'n_estimators': 40, 'max_features': 7, 'bootstrap': False}\n",
      "31077.28806632418 {'n_estimators': 34, 'max_features': 27, 'bootstrap': False}\n",
      "30073.555661390823 {'n_estimators': 19, 'max_features': 25, 'bootstrap': False}\n",
      "29602.725443215735 {'n_estimators': 41, 'max_features': 20, 'bootstrap': False}\n",
      "29376.273453124006 {'n_estimators': 38, 'max_features': 5, 'bootstrap': False}\n",
      "29102.309849288817 {'n_estimators': 37, 'max_features': 14, 'bootstrap': False}\n",
      "29817.95272556736 {'n_estimators': 16, 'max_features': 11, 'bootstrap': False}\n",
      "30504.844423024242 {'n_estimators': 8, 'max_features': 14, 'bootstrap': False}\n",
      "28401.530235492526 {'n_estimators': 58, 'max_features': 9, 'bootstrap': False}\n",
      "32444.022853116745 {'n_estimators': 5, 'max_features': 25, 'bootstrap': False}\n",
      "29341.58321581393 {'n_estimators': 19, 'max_features': 8, 'bootstrap': False}\n",
      "29716.014284113524 {'n_estimators': 30, 'max_features': 16, 'bootstrap': False}\n",
      "29917.78582442339 {'n_estimators': 17, 'max_features': 14, 'bootstrap': False}\n"
     ]
    }
   ],
   "source": [
    "cvres = grid_search.cv_results_\n",
    "for mean_score, params in zip(cvres[\"mean_test_score\"], cvres[\"params\"]):\n",
    "    print(np.sqrt(-mean_score), params)"
   ]
  },
  {
   "cell_type": "code",
   "execution_count": null,
   "metadata": {},
   "outputs": [],
   "source": []
  },
  {
   "cell_type": "code",
   "execution_count": null,
   "metadata": {},
   "outputs": [],
   "source": []
  }
 ],
 "metadata": {
  "kernelspec": {
   "display_name": "Python 3",
   "language": "python",
   "name": "python3"
  },
  "language_info": {
   "codemirror_mode": {
    "name": "ipython",
    "version": 3
   },
   "file_extension": ".py",
   "mimetype": "text/x-python",
   "name": "python",
   "nbconvert_exporter": "python",
   "pygments_lexer": "ipython3",
   "version": "3.6.4"
  }
 },
 "nbformat": 4,
 "nbformat_minor": 2
}
